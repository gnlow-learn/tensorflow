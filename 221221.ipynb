{
 "cells": [
  {
   "cell_type": "code",
   "execution_count": 23,
   "metadata": {},
   "outputs": [],
   "source": [
    "import tensorflow.compat.v1 as tf\n",
    "tf.disable_v2_behavior()\n",
    "\n",
    "from inspect import cleandoc"
   ]
  },
  {
   "cell_type": "code",
   "execution_count": 4,
   "metadata": {},
   "outputs": [
    {
     "name": "stdout",
     "output_type": "stream",
     "text": [
      "Tensor(\"Const_2:0\", shape=(), dtype=string)\n"
     ]
    },
    {
     "data": {
      "text/plain": [
       "b'TensorFlow with AI Basic'"
      ]
     },
     "execution_count": 4,
     "metadata": {},
     "output_type": "execute_result"
    }
   ],
   "source": [
    "TFAIB = tf.constant(\"TensorFlow with AI Basic\")\n",
    "print(TFAIB)\n",
    "\n",
    "sess = tf.Session()\n",
    "sess.run(TFAIB)"
   ]
  },
  {
   "cell_type": "code",
   "execution_count": 22,
   "metadata": {},
   "outputs": [
    {
     "name": "stdout",
     "output_type": "stream",
     "text": [
      "\n",
      "    node1: Tensor(\"Const_25:0\", shape=(), dtype=float32)\n",
      "    node2: Tensor(\"Const_26:0\", shape=(), dtype=float32)\n",
      "    node3: Tensor(\"Add_11:0\", shape=(), dtype=float32)\n",
      "    [9.0, 11.0]\n",
      "    20.0\n",
      "\n"
     ]
    }
   ],
   "source": [
    "node1 = tf.constant(9.0, tf.float32)\n",
    "node2 = tf.constant(11.0)\n",
    "node3 = tf.add(node1, node2)\n",
    "print(f\"\"\"\n",
    "    node1: {node1}\n",
    "    node2: {node2}\n",
    "    node3: {node3}\n",
    "    {sess.run([node1, node2])}\n",
    "    {sess.run(node3)}\n",
    "\"\"\")"
   ]
  }
 ],
 "metadata": {
  "kernelspec": {
   "display_name": "Python 3",
   "language": "python",
   "name": "python3"
  },
  "language_info": {
   "codemirror_mode": {
    "name": "ipython",
    "version": 3
   },
   "file_extension": ".py",
   "mimetype": "text/x-python",
   "name": "python",
   "nbconvert_exporter": "python",
   "pygments_lexer": "ipython3",
   "version": "3.10.6"
  },
  "vscode": {
   "interpreter": {
    "hash": "e47027aeeb19c7c3a0f3c5a312a03a5f27825e8f65374bb0b66c2b486ae02b4f"
   }
  }
 },
 "nbformat": 4,
 "nbformat_minor": 2
}
