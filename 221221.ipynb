{
 "cells": [
  {
   "cell_type": "code",
   "execution_count": 27,
   "metadata": {},
   "outputs": [],
   "source": [
    "import tensorflow.compat.v1 as tf\n",
    "tf.disable_v2_behavior()\n",
    "\n",
    "from inspect import cleandoc\n",
    "def say(str):\n",
    "    print(cleandoc(str))"
   ]
  },
  {
   "cell_type": "code",
   "execution_count": 28,
   "metadata": {},
   "outputs": [
    {
     "name": "stdout",
     "output_type": "stream",
     "text": [
      "Tensor(\"Const_31:0\", shape=(), dtype=string)\n"
     ]
    },
    {
     "data": {
      "text/plain": [
       "b'TensorFlow with AI Basic'"
      ]
     },
     "execution_count": 28,
     "metadata": {},
     "output_type": "execute_result"
    }
   ],
   "source": [
    "TFAIB = tf.constant(\"TensorFlow with AI Basic\")\n",
    "print(TFAIB)\n",
    "\n",
    "sess = tf.Session()\n",
    "sess.run(TFAIB)"
   ]
  },
  {
   "cell_type": "code",
   "execution_count": 29,
   "metadata": {},
   "outputs": [
    {
     "name": "stdout",
     "output_type": "stream",
     "text": [
      "node1: Tensor(\"Const_32:0\", shape=(), dtype=float32)\n",
      "node2: Tensor(\"Const_33:0\", shape=(), dtype=float32)\n",
      "node3: Tensor(\"Add_14:0\", shape=(), dtype=float32)\n",
      "[9.0, 11.0]\n",
      "20.0\n"
     ]
    }
   ],
   "source": [
    "node1 = tf.constant(9.0, tf.float32)\n",
    "node2 = tf.constant(11.0)\n",
    "node3 = tf.add(node1, node2)\n",
    "say(f\"\"\"\n",
    "    node1: {node1}\n",
    "    node2: {node2}\n",
    "    node3: {node3}\n",
    "    {sess.run([node1, node2])}\n",
    "    {sess.run(node3)}\n",
    "\"\"\")"
   ]
  },
  {
   "cell_type": "code",
   "execution_count": 31,
   "metadata": {},
   "outputs": [
    {
     "name": "stdout",
     "output_type": "stream",
     "text": [
      "20.5\n",
      "[10. 15.]\n"
     ]
    }
   ],
   "source": [
    "# Placeholder - TF 2에서 삭제됨\n",
    "a = tf.placeholder(tf.float32)\n",
    "b = tf.placeholder(tf.float32)\n",
    "adder_node = a + b\n",
    "\n",
    "say(f\"\"\"\n",
    "    {sess.run(adder_node, feed_dict={a: 9, b: 11.5})}\n",
    "    {sess.run(adder_node, feed_dict={a: [4, 5], b: [6, 10]})}\n",
    "\"\"\")"
   ]
  }
 ],
 "metadata": {
  "kernelspec": {
   "display_name": "Python 3",
   "language": "python",
   "name": "python3"
  },
  "language_info": {
   "codemirror_mode": {
    "name": "ipython",
    "version": 3
   },
   "file_extension": ".py",
   "mimetype": "text/x-python",
   "name": "python",
   "nbconvert_exporter": "python",
   "pygments_lexer": "ipython3",
   "version": "3.10.6"
  },
  "vscode": {
   "interpreter": {
    "hash": "e47027aeeb19c7c3a0f3c5a312a03a5f27825e8f65374bb0b66c2b486ae02b4f"
   }
  }
 },
 "nbformat": 4,
 "nbformat_minor": 2
}
